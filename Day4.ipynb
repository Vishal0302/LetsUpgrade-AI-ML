{
 "cells": [
  {
   "cell_type": "code",
   "execution_count": 30,
   "metadata": {},
   "outputs": [
    {
     "name": "stdout",
     "output_type": "stream",
     "text": [
      "Addition of two complex numbers :  (7-4j)\n",
      "Subtraction of two complex numbers :  (7-4j)\n",
      "Multiplication of two complex numbers :  (7-4j)\n",
      "Division of two complex numbers :  (7-4j)\n"
     ]
    }
   ],
   "source": [
    " # Quest 1:- Research on whether addition, subtraction, multiplication, division, floor division and modulo\n",
    "# operations be performed on complex numbers. Based on your study, implement a Python\n",
    "# program to demonstrate these operations.\n",
    "\n",
    "a = 4+3j\n",
    "b = 3-7j\n",
    "\n",
    "print(\"Addition of two complex numbers : \", (a) + (b))\n",
    "print(\"Subtraction of two complex numbers : \",(a) + (b))\n",
    "print(\"Multiplication of two complex numbers : \",(a) + (b))\n",
    "print(\"Division of two complex numbers : \",(a) + (b))\n",
    "\n",
    "# floor divsion does not work with complex numbers\n",
    "# print(\"Floor divisio of two complex numbers : \" (4+3j) // (4+3j))\n",
    "\n",
    "# modulus operations does not performed on complex numbers\n",
    "#print(\"modulo operation of two complex numbers : \", (a) % (b))\n",
    "\n"
   ]
  },
  {
   "cell_type": "code",
   "execution_count": null,
   "metadata": {},
   "outputs": [],
   "source": [
    "# Quest 2 :- Research on range() functions and its parameters. Create a markdown cell and write in your own\n",
    "#words (no copy-paste from google please) what you understand about it. Implement a small\n",
    "#program of your choice on the same.\n"
   ]
  },
  {
   "cell_type": "markdown",
   "metadata": {},
   "source": [
    "The range function is used to create a sequence of numbers. By default the range starts from 0 and has a step size of 1.\n",
    "A range function has three arguments, start, end and step.\n",
    "Syntax: range(START,END,STEP)\n",
    "the above function generates a sequence starting from START to (END-1) with step size of STEP"
   ]
  },
  {
   "cell_type": "code",
   "execution_count": 33,
   "metadata": {},
   "outputs": [
    {
     "name": "stdout",
     "output_type": "stream",
     "text": [
      "***Printing range(6)***\n",
      "0\n",
      "1\n",
      "2\n",
      "3\n",
      "4\n",
      "5\n",
      "***Printing range(1,6)***\n",
      "1\n",
      "2\n",
      "3\n",
      "4\n",
      "5\n",
      "***Printing range(1,6)***\n",
      "1\n",
      "3\n",
      "5\n"
     ]
    }
   ],
   "source": [
    "r1 = range(6)\n",
    "print(\"***Printing range(6)***\")\n",
    "for i in r1:\n",
    "    print(i)\n",
    "r1 = range(1,6)\n",
    "print(\"***Printing range(1,6)***\")\n",
    "for i in r1:\n",
    "    print(i)\n",
    "r1 = range(1,6,2)\n",
    "print(\"***Printing range(1,6)***\")\n",
    "for i in r1:\n",
    "    print(i)"
   ]
  },
  {
   "cell_type": "code",
   "execution_count": 31,
   "metadata": {},
   "outputs": [
    {
     "name": "stdout",
     "output_type": "stream",
     "text": [
      "Enter first number:50\n",
      "Enter the second number:30\n",
      "20\n",
      "The num1 is : 50 and num2 is : 30 and division is: 1.6666666666666667\n"
     ]
    }
   ],
   "source": [
    "# Quest 3 :- Consider two numbers. Perform their subtraction and if the result of subtraction is greater than 25, print their multiplication result else print their division result.\n",
    "\n",
    "\n",
    "num1 = int(input('Enter first number:'))\n",
    "num2 = int(input('Enter the second number:'))\n",
    "\n",
    "minus = num1 - num2\n",
    "    \n",
    "def calcu (num1, num2):\n",
    "    \n",
    "    print(minus)\n",
    "    \n",
    "    if(minus > 25):\n",
    "        return num1 * num2\n",
    "    else:\n",
    "         return num1 / num2\n",
    "\n",
    "if(minus > 25):\n",
    "    print('The num1 is : {0} and num2 is : {1} and multiplication is: {2}'.format(num1, num2,calcu(num1, num2))) \n",
    "else:\n",
    "    print('The num1 is : {0} and num2 is : {1} and division is: {2}'.format(num1, num2,calcu(num1, num2))) \n",
    "    "
   ]
  },
  {
   "cell_type": "code",
   "execution_count": 36,
   "metadata": {},
   "outputs": [
    {
     "name": "stdout",
     "output_type": "stream",
     "text": [
      "Enter the list(comma seperated): 5\n"
     ]
    }
   ],
   "source": [
    "# Question 4: Consider a list of 10 elements of integer values. If the number in the list is divisible by 2, print the\n",
    "# result as \"square of that number minus 2\".\n",
    "\n",
    "lst = input(\"Enter the list(comma seperated): \").split(\",\")\n",
    "for i in lst:\n",
    "    if(int(i)%2==0):\n",
    "        print(\"square of that number minus 2\")\n"
   ]
  },
  {
   "cell_type": "code",
   "execution_count": 37,
   "metadata": {},
   "outputs": [
    {
     "name": "stdout",
     "output_type": "stream",
     "text": [
      "Enter the list(comma seperated): 5\n",
      "Printing number that are greater than 7 after dividing by 2\n"
     ]
    }
   ],
   "source": [
    "# Question 5: Consider a list of 10 elements. Print all the elements in the list which are greater than 7 when that number is divided 2.\n",
    "\n",
    "lst = input(\"Enter the list(comma seperated): \").split(\",\")\n",
    "print(\"Printing number that are greater than 7 after dividing by 2\")\n",
    "for i in lst:\n",
    "   if(int(i)/2>7):\n",
    "        print(i)"
   ]
  },
  {
   "cell_type": "code",
   "execution_count": null,
   "metadata": {},
   "outputs": [],
   "source": []
  }
 ],
 "metadata": {
  "kernelspec": {
   "display_name": "Python 3",
   "language": "python",
   "name": "python3"
  },
  "language_info": {
   "codemirror_mode": {
    "name": "ipython",
    "version": 3
   },
   "file_extension": ".py",
   "mimetype": "text/x-python",
   "name": "python",
   "nbconvert_exporter": "python",
   "pygments_lexer": "ipython3",
   "version": "3.7.6"
  }
 },
 "nbformat": 4,
 "nbformat_minor": 4
}
