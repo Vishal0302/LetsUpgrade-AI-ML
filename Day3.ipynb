{
 "cells": [
  {
   "cell_type": "code",
   "execution_count": 16,
   "metadata": {},
   "outputs": [
    {
     "name": "stdout",
     "output_type": "stream",
     "text": [
      "Subtraction of 2 complex number= (2-5j)\n"
     ]
    }
   ],
   "source": [
    "# Quest 1 :- Write a program to subtract two complex numbers in Python\n",
    "\n",
    "a = 3 + 7j\n",
    "b = 1 + 12j\n",
    "\n",
    "print('Subtraction of 2 complex number=', a - b)"
   ]
  },
  {
   "cell_type": "code",
   "execution_count": 17,
   "metadata": {},
   "outputs": [
    {
     "name": "stdout",
     "output_type": "stream",
     "text": [
      "Enter the number that you want to find the fourth root of: 5\n",
      "The fourth root of 5 is 1.4953487812212205\n"
     ]
    }
   ],
   "source": [
    "# Quest 2 :- Write a program to find the fourth root of a number\n",
    "\n",
    "num = int(input(\"Enter the number that you want to find the fourth root of: \"))\n",
    "root = num**(1/4)\n",
    "print(\"The fourth root of\",num,\"is\",root)\n"
   ]
  },
  {
   "cell_type": "code",
   "execution_count": 18,
   "metadata": {},
   "outputs": [
    {
     "name": "stdout",
     "output_type": "stream",
     "text": [
      "Enter the number first number 50\n",
      "Enter the number second number 40\n",
      "num1 = 50 and num2 = 40\n",
      "***After swaping***\n",
      "num1 = 40 and num2 = 50\n"
     ]
    }
   ],
   "source": [
    "# Quest 3 :- Write a program to swap two numbers in Python with the help of a temporary variable.\n",
    "\n",
    "num1 = int(input(\"Enter the number first number \"))\n",
    "num2 = int(input(\"Enter the number second number \"))\n",
    "print(\"num1 =\",num1,\"and num2 =\",num2)\n",
    "print(\"***After swaping***\")\n",
    "temp=num1\n",
    "num1=num2\n",
    "num2=temp\n",
    "print(\"num1 =\",num1,\"and num2 =\",num2)"
   ]
  },
  {
   "cell_type": "code",
   "execution_count": 22,
   "metadata": {},
   "outputs": [
    {
     "name": "stdout",
     "output_type": "stream",
     "text": [
      "Swap 2 numbers in python without using temporary variable: x = 6 y= 3\n"
     ]
    }
   ],
   "source": [
    "# Quest 4 :- Write a program to swap two numbers in Python without using a temporary variable\n",
    "\n",
    "x = 3\n",
    "y = 6\n",
    "\n",
    "x,y = y,x \n",
    "\n",
    "print(\"Swap 2 numbers in python without using temporary variable: x =\", x,\"y=\", y )\n"
   ]
  },
  {
   "cell_type": "code",
   "execution_count": 23,
   "metadata": {},
   "outputs": [
    {
     "name": "stdout",
     "output_type": "stream",
     "text": [
      "Enter the temperature in Fahrenheit60\n",
      "The temperature in Kelvin is 288.7055555555555 K\n",
      "The temperature in Celcius is 15.555555555555557 C\n"
     ]
    }
   ],
   "source": [
    "# Quest 5 :- Write a program to convert fahrenheit to kelvin and celsius both\n",
    "\n",
    "tempF = float(input(\"Enter the temperature in Fahrenheit\"))\n",
    "tempK = (tempF-32)*(5/9)+273.15\n",
    "print(\"The temperature in Kelvin is\",tempK,\"K\")\n",
    "tempC = (tempF-32)*(5/9)\n",
    "print(\"The temperature in Celcius is\",tempC,\"C\")\n"
   ]
  },
  {
   "cell_type": "code",
   "execution_count": 12,
   "metadata": {},
   "outputs": [
    {
     "name": "stdout",
     "output_type": "stream",
     "text": [
      "<class 'int'>\n",
      "<class 'float'>\n",
      "<class 'str'>\n",
      "<class 'complex'>\n",
      "<class 'bool'>\n"
     ]
    }
   ],
   "source": [
    "# Quest 6 :- Write a program to demonstrate all the available data types in Python. Hint: Use type() function.\n",
    "\n",
    "a = type(1)\n",
    "b = type(3.0)\n",
    "c= type(\"abc\")\n",
    "d = type(2.4j)\n",
    "e = type(True)\n",
    "print(a)\n",
    "print(b)\n",
    "print(c)\n",
    "print(d)\n",
    "print(e)"
   ]
  },
  {
   "cell_type": "markdown",
   "metadata": {},
   "source": [
    "# Quest 7 :- Create a Markdown cell in jupyter and list the steps discussed in the session by Dr. Darshan\n",
    "\n",
    "1. Create profile in Github\n",
    "2. Create a repository in Github\n",
    "3. Upload assignments in the created repository\n",
    "5. Open the assignnment usbmission form\n",
    "6. Add the link to the the github assignment repository\n",
    "7. Submit the assignment form\n"
   ]
  }
 ],
 "metadata": {
  "kernelspec": {
   "display_name": "Python 3",
   "language": "python",
   "name": "python3"
  },
  "language_info": {
   "codemirror_mode": {
    "name": "ipython",
    "version": 3
   },
   "file_extension": ".py",
   "mimetype": "text/x-python",
   "name": "python",
   "nbconvert_exporter": "python",
   "pygments_lexer": "ipython3",
   "version": "3.7.6"
  }
 },
 "nbformat": 4,
 "nbformat_minor": 4
}
