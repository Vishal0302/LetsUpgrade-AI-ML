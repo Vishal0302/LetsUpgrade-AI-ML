{
 "cells": [
  {
   "cell_type": "code",
   "execution_count": 42,
   "metadata": {},
   "outputs": [
    {
     "name": "stdout",
     "output_type": "stream",
     "text": [
      "Enter the email address: me@vishal.com\n",
      "vishal\n"
     ]
    }
   ],
   "source": [
    "# Quest 1 : Assuming that we have some email addresses in the \"username@companyname.com\" format, please write program\n",
    "#to print the company name of a given email address. Both user names and company names are composed of letters\n",
    "#only.\n",
    "\n",
    "email=input(\"Enter the email address: \")\n",
    "pos1=email.index('@')\n",
    "#print(pos1)\n",
    "pos2=email.index('.')\n",
    "#print(pos2)\n",
    "print(email[(pos1+1):pos2])\n"
   ]
  },
  {
   "cell_type": "code",
   "execution_count": 5,
   "metadata": {},
   "outputs": [
    {
     "name": "stdout",
     "output_type": "stream",
     "text": [
      "enter data to sort50,30,30\n",
      "Sorted data are  30 30 50\n"
     ]
    }
   ],
   "source": [
    "# Quest 2 : Write a program that accepts a comma-separated sequence of words as input and prints the words in a comma\n",
    "# separated sequence after sorting them alphabetically.\n",
    "\n",
    "items=[x for x in input(\"enter data to sort\").split(',')]\n",
    "items.sort()\n",
    "print (\"Sorted data are \",' '.join(items))\n"
   ]
  },
  {
   "cell_type": "markdown",
   "metadata": {},
   "source": [
    "#Question 3: Create your own Jupyter Notebook for Sets. Reference link: https://www.w3schools.com/python/python_sets.asp\n",
    "\n",
    "# A set is a collection which is unordered and unindexed. In Python sets are written with curly brackets.\n",
    "\n",
    "Ex :\n",
    "\n",
    "thisset = {\"apple\", \"banana\", \"cherry\"}\n",
    "print(thisset)\n",
    "\n",
    "Note: Sets are unordered, so you cannot be sure in which order the items will appear.\n",
    "\n",
    "# Access Items\n",
    "\n",
    "you can loop through the set items using a for loop, or ask if a specified value is present in a set, by using the in keyword.\n",
    "\n",
    "Ex:\n",
    "\n",
    "thisset = {\"apple\", \"banana\", \"cherry\"}\n",
    "for x in thisset:\n",
    "  print(x)\n",
    "\n",
    "# Change Items\n",
    "\n",
    "Once a set is created, you cannot change its items, but you can add new items.\n",
    "\n",
    "# Add Items\n",
    "\n",
    "To add one item to a set use the add() method.\n",
    "To add more than one item to a set use the update() method.\n",
    "\n",
    "Ex: for adding item in a set\n",
    "thisset = {\"apple\", \"banana\", \"cherry\"}\n",
    "thisset.add(\"orange\")\n",
    "print(thisset)\n",
    "\n",
    "Ex: for updating item in a set\n",
    "thisset = {\"apple\", \"banana\", \"cherry\"}\n",
    "thisset.update([\"orange\", \"mango\", \"grapes\"])\n",
    "print(thisset)\n",
    "\n",
    "# Get the Length of a Set\n",
    "\n",
    "To determine how many items a set has, use the len() method.\n",
    "\n",
    "Ex:\n",
    "thisset = {\"apple\", \"banana\", \"cherry\"}\n",
    "print(len(thisset))\n",
    "\n",
    "# Remove Item\n",
    "\n",
    "To remove an item in a set, use the remove(), or the discard() method.\n",
    "\n",
    "Ex :\n",
    "thisset = {\"apple\", \"banana\", \"cherry\"}\n",
    "thisset.remove(\"banana\")\n",
    "print(thisset)\n",
    "\n",
    "Note: If the item to remove does not exist, remove() will raise an error.\n",
    "\n",
    "# Remove \"banana\" by using the discard() method:\n",
    "\n",
    "Ex:\n",
    "thisset = {\"apple\", \"banana\", \"cherry\"}\n",
    "thisset.discard(\"banana\")\n",
    "print(thisset)\n",
    "\n",
    "Note: If the item to remove does not exist, discard() will NOT raise an error.\n",
    "\n",
    "\n",
    "# pop() method\n",
    "\n",
    "Remove the last item by using the pop() method:\n",
    "\n",
    "Ex:\n",
    "thisset = {\"apple\", \"banana\", \"cherry\"}\n",
    "x = thisset.pop()\n",
    "print(x)\n",
    "print(thisset)\n",
    "\n",
    "# clear() method \n",
    "\n",
    "The clear() method empties the set:\n",
    "\n",
    "Ex:\n",
    "thisset = {\"apple\", \"banana\", \"cherry\"}\n",
    "thisset.clear()\n",
    "print(thisset)\n",
    "\n",
    "# delete del() keyword \n",
    "\n",
    "Ex :\n",
    "thisset = {\"apple\", \"banana\", \"cherry\"}\n",
    "del thisset\n",
    "print(thisset)\n",
    "\n",
    "# Join Two Sets\n",
    "\n",
    "The union() method returns a new set with all items from both sets:\n",
    "\n",
    "Ex :\n",
    "set1 = {\"a\", \"b\" , \"c\"}\n",
    "set2 = {1, 2, 3}\n",
    "\n",
    "set3 = set1.union(set2)\n",
    "print(set3)\n",
    "\n",
    "update() :\n",
    "\n",
    "Ex :\n",
    "set1 = {\"a\", \"b\" , \"c\"}\n",
    "set2 = {1, 2, 3}\n",
    "set1.update(set2)\n",
    "print(set1)\n",
    "\n",
    "# set() Constructor\n",
    "\n",
    "It is also possible to use the set() constructor to make a set.\n",
    "\n",
    "Ex:\n",
    "thisset = set((\"apple\", \"banana\", \"cherry\")) # note the double round-brackets\n",
    "print(thisset)\n"
   ]
  },
  {
   "cell_type": "code",
   "execution_count": 43,
   "metadata": {},
   "outputs": [
    {
     "name": "stdout",
     "output_type": "stream",
     "text": [
      "5\n"
     ]
    }
   ],
   "source": [
    "# Question 4: Given a list of n-1 numbers ranging from 1 to n, your task is to find the missing number. There are no duplicates.\n",
    "\n",
    "def missing_number(num_list):\n",
    "    return sum(range(num_list[0],num_list[-1]+1)) - sum(num_list)\n",
    "\n",
    "print(missing_number([1,2,3,4,6,7,8]))\n"
   ]
  },
  {
   "cell_type": "code",
   "execution_count": 41,
   "metadata": {},
   "outputs": [
    {
     "name": "stdout",
     "output_type": "stream",
     "text": [
      "Original list\n",
      "list1:  [10, 20, 20, 30, 30, 40, 50, 50, 50]\n",
      "List after removing duplicate elements\n",
      "list2:  [10, 20, 30, 40, 50]\n"
     ]
    }
   ],
   "source": [
    "#Question 5: With a given list L, write a program to print this list L after removing all duplicate values with original order reserved\n",
    "\n",
    "lst1 = [10,20,20,30,30,40,50,50,50]\n",
    "\n",
    "lst2=[]\n",
    "for i in lst1:\n",
    "    if i not in lst2:\n",
    "        lst2.append(i)\n",
    "        \n",
    "print (\"Original list\")\n",
    "print(\"list1: \", lst1)\n",
    "print (\"List after removing duplicate elements\")\n",
    "print (\"list2: \", lst2)\n"
   ]
  },
  {
   "cell_type": "code",
   "execution_count": null,
   "metadata": {},
   "outputs": [],
   "source": []
  }
 ],
 "metadata": {
  "kernelspec": {
   "display_name": "Python 3",
   "language": "python",
   "name": "python3"
  },
  "language_info": {
   "codemirror_mode": {
    "name": "ipython",
    "version": 3
   },
   "file_extension": ".py",
   "mimetype": "text/x-python",
   "name": "python",
   "nbconvert_exporter": "python",
   "pygments_lexer": "ipython3",
   "version": "3.7.6"
  }
 },
 "nbformat": 4,
 "nbformat_minor": 4
}
